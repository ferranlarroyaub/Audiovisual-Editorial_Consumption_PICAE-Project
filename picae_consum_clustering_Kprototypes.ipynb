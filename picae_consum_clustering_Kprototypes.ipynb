{
 "cells": [
  {
   "cell_type": "code",
   "execution_count": 2,
   "id": "american-crystal",
   "metadata": {},
   "outputs": [],
   "source": [
    "\n",
    "import pandas as pd\n",
    "import numpy as np\n",
    "import matplotlib.pyplot as plt\n",
    "import time\n",
    "from kmodes.kprototypes import KPrototypes\n",
    "from scipy.optimize import curve_fit\n",
    "import seaborn as sns\n",
    "\n",
    "%config Completer.use_jedi = False"
   ]
  },
  {
   "cell_type": "markdown",
   "id": "other-voltage",
   "metadata": {},
   "source": [
    "# INDEX\n",
    "\n",
    "### 1- Clustering. K-Prototypes Algorithm\n",
    "    1.1- Estandaritzar les dades contínues\n",
    "    1.2- Nombre ideal de clústers (funció cost)\n",
    "    1.3- Clustering. K-Prototypes Algorithm\n",
    "    \n",
    " \n",
    "    \n",
    "       "
   ]
  },
  {
   "cell_type": "markdown",
   "id": "intellectual-studio",
   "metadata": {},
   "source": [
    "# 1- Clustering. K-Prototypes Algorithm\n",
    "\n",
    "Apliquem un algoritme de clusterització on després de triar un nombre ideal de clústers (5), apliquem l'algoritme i tractem d'interpretar els 5 clústers de registres de consum. Les variables contínues les \"normalitzem\", treient el valor mig i dividint per la desviació estandard, d'aquesta manera no tenen unitats i estan totes en la mateixa escala. L'algoritme permet barrejar dades de caràcter continu i discret/categòric (K-Prototypes)."
   ]
  },
  {
   "cell_type": "markdown",
   "id": "smart-nitrogen",
   "metadata": {},
   "source": [
    "## 1.1- Estandaritzar les dades contínues\n",
    "Estandaritzem les dades contínues perquè totes tinguin la mateixa escala i sense unitats, això ho fem treient-ne el valor mig i dividint per la desviació estàndard. "
   ]
  },
  {
   "cell_type": "code",
   "execution_count": 6,
   "id": "central-holmes",
   "metadata": {},
   "outputs": [],
   "source": [
    "df = pd.read_csv('dades_consum_logats_processades.csv')   # Read data file\n",
    "\n",
    "df['player_id']=df['player_id'].astype(str)   # Column to string (needed for the algorithm)\n",
    "df['contingut_id']=df['contingut_id'].astype(str)\n",
    "df['programa_capitol']=df['programa_capitol'].astype(str)\n",
    "df['year']=df['year'].astype(str)"
   ]
  },
  {
   "cell_type": "code",
   "execution_count": 4,
   "id": "domestic-advance",
   "metadata": {},
   "outputs": [
    {
     "name": "stdout",
     "output_type": "stream",
     "text": [
      "<min_data>= 50163.67049855757  std min_data= 19061.224481347042\n",
      "<durada_consum>= 1288.9360753883802  std durada_consum= 2980.405043602095\n",
      "<durada>= 2422.884191680986  std durada= 2480.3205253368405\n"
     ]
    }
   ],
   "source": [
    "# standardizing data\n",
    "columns_to_normalize= ['min_data','durada_consum','durada']\n",
    "\n",
    "\n",
    "# mean values, to return to the original values after clustering\n",
    "min_data_mean=np.mean(df['min_data'])\n",
    "min_data_std=np.std(df['min_data'])\n",
    "durada_consum_mean=np.mean(df['durada_consum'])\n",
    "durada_consum_std=np.std(df['durada_consum'])\n",
    "durada_mean=np.mean(df['durada'])\n",
    "durada_std=np.std(df['durada'])\n",
    "print('<min_data>=',min_data_mean,'', 'std min_data=',min_data_std)\n",
    "print('<durada_consum>=',durada_consum_mean,'', 'std durada_consum=',durada_consum_std)\n",
    "print('<durada>=',durada_mean,'', 'std durada=',durada_std)\n",
    "\n",
    "\n",
    "# normalize / standarize\n",
    "df[columns_to_normalize] = df[columns_to_normalize].apply(lambda x: (x - x.mean()) / np.std(x))"
   ]
  },
  {
   "cell_type": "markdown",
   "id": "selected-patch",
   "metadata": {},
   "source": [
    "## 1.2- Nombre ideal de clústers (funció cost)\n",
    "\n",
    "·Determinem el nombre ideal de clústers \"k\" aplicant l'algoritme per k=1,2,...,10 i representant la funció cost, definida com la suma de totes les distàncies dels samples als seus respectius centroides. En el punt on la funció cost deixa de decrèixer \"abruptament\" (Elbow point), és el que escollim com a \"k ideal\". \n",
    "\n",
    "\n",
    "·Apliquem l'algoritme de clusterització al DataFrame especificant les columnes de caràcter discret/categòric. L'algoritme retorna la posició dels \"centroids\", és a dir els centres de cada cluster i els \"labels\", és a dir, cada ítem de consum a quin clúster correspon, així com la funció cost i el nombre d'iteracions."
   ]
  },
  {
   "cell_type": "code",
   "execution_count": null,
   "id": "endangered-stream",
   "metadata": {},
   "outputs": [],
   "source": [
    "start_time_kideal=time.time()\n",
    "\n",
    "cost = []\n",
    "k = []\n",
    "for num_clusters in list(range(1,10)):\n",
    "    kproto = KPrototypes(n_clusters=num_clusters, init='Cao',n_jobs = -1)\n",
    "    kproto.fit_predict(df2, categorical=[3, 4, 5, 6, 7, 8, 9, 10, 11, 12, 13, 14, 15, 16, 17, 18])\n",
    "    cost.append(kproto.cost_)\n",
    "    k.append(num_clusters)\n",
    "\n",
    "final_time_kideal=time.time()\n",
    "\n",
    "print('El temps que ha tardat és de:', (final_time_kideal-start_time_kideal)/3600,'','hores')"
   ]
  },
  {
   "cell_type": "code",
   "execution_count": null,
   "id": "communist-spanking",
   "metadata": {},
   "outputs": [],
   "source": [
    "fig, ax = plt.subplots(figsize=(7,5))    # PLOT COST (TOTAL DISTANCE) VS K (NUMBER OF CLUSTERS)\n",
    "\n",
    "ax.plot(k, cost, '+-',)    \n",
    "ax.set_xlabel('number of clusters k',fontsize=16)\n",
    "ax.set_ylabel('cost',fontsize=16)\n",
    "\n",
    "plt.show()"
   ]
  },
  {
   "cell_type": "markdown",
   "id": "medium-anxiety",
   "metadata": {},
   "source": [
    "## 1.3- Clustering. K-Prototypes Algorithm\n",
    "\n",
    "\n",
    "Apliquem l'algoritme de clusterització al DataFrame especificant les columnes de caràcter discret/categòric. L'algoritme retorna:\n",
    "\n",
    "    1. La posició dels \"centroids\", és a dir els centres de cada cluster.\n",
    "    2. Els \"labels\", és a dir, cada ítem de consum a quin clúster correspon.\n",
    "    3. El cost.\n",
    "    4. El nombre d'iteracions utilitzades"
   ]
  },
  {
   "cell_type": "code",
   "execution_count": null,
   "id": "inner-powell",
   "metadata": {},
   "outputs": [],
   "source": [
    "start_time_clustering=time.time()\n",
    "\n",
    "df.to_numpy()\n",
    "kproto = KPrototypes(n_clusters=5, init='Cao',n_jobs = -1)  # we chose k=4\n",
    "clusters = kproto.fit_predict(df, categorical=[ 3, 4, 5, 6, 7, 8, 9, 10, 11, 12, 13, 14, 15,16,17,18])\n",
    "\n",
    "final_time_clustering=time.time()"
   ]
  },
  {
   "cell_type": "code",
   "execution_count": null,
   "id": "civic-internet",
   "metadata": {},
   "outputs": [],
   "source": [
    "print('El temps que ha tardat el k-prototypes a clusteritzar les dades ha estat de:', (final_time_clustering-start_time_clustering)/3600,'','hores')\n",
    "print('')\n",
    "print('')\n",
    "\n",
    "print('Les coordenades dels Centrodis són:')\n",
    "print('')\n",
    "print(kproto.cluster_centroids_)\n",
    "print('')\n",
    "print('')\n",
    "\n",
    "\n",
    "print('El cost és de:', kproto.cost_)\n",
    "print('')\n",
    "\n",
    "print('Nombre de iteracions:', kproto.n_iter_)\n",
    "print('')\n",
    "\n",
    "print('Clusters (labels)')\n",
    "print(kproto.labels_)"
   ]
  }
 ],
 "metadata": {
  "kernelspec": {
   "display_name": "Python 3",
   "language": "python",
   "name": "python3"
  },
  "language_info": {
   "codemirror_mode": {
    "name": "ipython",
    "version": 3
   },
   "file_extension": ".py",
   "mimetype": "text/x-python",
   "name": "python",
   "nbconvert_exporter": "python",
   "pygments_lexer": "ipython3",
   "version": "3.9.2"
  }
 },
 "nbformat": 4,
 "nbformat_minor": 5
}
